{
 "cells": [
  {
   "cell_type": "markdown",
   "id": "downtown-douglas",
   "metadata": {},
   "source": [
    "# The Battle Of The Neighborhoods: Toronto\n",
    "\n",
    "This Jupyuter Notebook will be mainly used for the Coursera IBM Data Science Professional Certificate capstone project.\n",
    "\n",
    "### First importing required libraries"
   ]
  },
  {
   "cell_type": "code",
   "execution_count": 1,
   "id": "outer-giving",
   "metadata": {},
   "outputs": [],
   "source": [
    "import pandas as pd\n",
    "import numpy as np"
   ]
  },
  {
   "cell_type": "markdown",
   "id": "legendary-milwaukee",
   "metadata": {},
   "source": [
    "Print the following the statement: Hello Capstone Project Course!"
   ]
  },
  {
   "cell_type": "code",
   "execution_count": 2,
   "id": "fundamental-slide",
   "metadata": {},
   "outputs": [
    {
     "name": "stdout",
     "output_type": "stream",
     "text": [
      "Hello Capstone Project Course!\n"
     ]
    }
   ],
   "source": [
    "print('Hello Capstone Project Course!')"
   ]
  },
  {
   "cell_type": "markdown",
   "id": "awful-vampire",
   "metadata": {},
   "source": [
    "## Summary\n",
    "\n",
    "Congratulations for completing your first lab. \n",
    "\n",
    "In this lab, you have learnt how to use `plotly.graph_objects` and `plotly.express` for creating plots and charts. \n"
   ]
  },
  {
   "cell_type": "markdown",
   "id": "unlimited-feelings",
   "metadata": {},
   "source": [
    "## Author\n",
    "\n",
    "[Harri O. Hokkanen](https://www.linkedin.com/in/harri-o-hokkanen/)"
   ]
  },
  {
   "cell_type": "markdown",
   "id": "welcome-fleet",
   "metadata": {},
   "source": [
    "## Changelog\n",
    "\n",
    "| Date       | Version | Changed by | Change Description                   |\n",
    "| ---------- | ------- | ---------- | ------------------------------------ |\n",
    "| 18-04-2021 | 1.0     | Harri      | Created Notebook |\n"
   ]
  },
  {
   "cell_type": "code",
   "execution_count": null,
   "id": "agricultural-arrow",
   "metadata": {},
   "outputs": [],
   "source": []
  }
 ],
 "metadata": {
  "kernelspec": {
   "display_name": "TensorFlow-GPU",
   "language": "python",
   "name": "tf-gpu"
  },
  "language_info": {
   "codemirror_mode": {
    "name": "ipython",
    "version": 3
   },
   "file_extension": ".py",
   "mimetype": "text/x-python",
   "name": "python",
   "nbconvert_exporter": "python",
   "pygments_lexer": "ipython3",
   "version": "3.8.2"
  }
 },
 "nbformat": 4,
 "nbformat_minor": 5
}
